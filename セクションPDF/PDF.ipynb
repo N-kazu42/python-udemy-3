{
 "cells": [
  {
   "cell_type": "code",
   "execution_count": 1,
   "id": "490dec4f",
   "metadata": {},
   "outputs": [
    {
     "name": "stdout",
     "output_type": "stream",
     "text": [
      "Requirement already satisfied: PyPDF2 in c:\\users\\n-kazu\\anaconda3\\lib\\site-packages (1.26.0)\n"
     ]
    }
   ],
   "source": [
    "!pip install PyPDF2"
   ]
  },
  {
   "cell_type": "code",
   "execution_count": 19,
   "id": "d9ebb134",
   "metadata": {},
   "outputs": [],
   "source": [
    "import PyPDF2"
   ]
  },
  {
   "cell_type": "code",
   "execution_count": 15,
   "id": "bd7aa0a8",
   "metadata": {},
   "outputs": [],
   "source": [
    "file=open(\"コロナ知識.pdf\",\"rb\")\n",
    "reder=PyPDF2.PdfFileReader(file)"
   ]
  },
  {
   "cell_type": "code",
   "execution_count": 16,
   "id": "8df0b1f1",
   "metadata": {},
   "outputs": [
    {
     "data": {
      "text/plain": [
       "<PyPDF2.pdf.PdfFileReader at 0x1ed6c39f2b0>"
      ]
     },
     "execution_count": 16,
     "metadata": {},
     "output_type": "execute_result"
    }
   ],
   "source": [
    "reder"
   ]
  },
  {
   "cell_type": "code",
   "execution_count": 17,
   "id": "c9f3578e",
   "metadata": {},
   "outputs": [
    {
     "data": {
      "text/plain": [
       "11"
      ]
     },
     "execution_count": 17,
     "metadata": {},
     "output_type": "execute_result"
    }
   ],
   "source": [
    "reder.numPages"
   ]
  },
  {
   "cell_type": "code",
   "execution_count": 7,
   "id": "cbf23042",
   "metadata": {},
   "outputs": [
    {
     "data": {
      "text/plain": [
       "{'/Type': '/Page',\n",
       " '/Parent': {'/Type': '/Pages',\n",
       "  '/Count': 11,\n",
       "  '/Kids': [IndirectObject(3, 0),\n",
       "   IndirectObject(33, 0),\n",
       "   IndirectObject(46, 0),\n",
       "   IndirectObject(79, 0),\n",
       "   IndirectObject(81, 0),\n",
       "   IndirectObject(92, 0),\n",
       "   IndirectObject(96, 0),\n",
       "   IndirectObject(115, 0),\n",
       "   IndirectObject(121, 0),\n",
       "   IndirectObject(124, 0),\n",
       "   IndirectObject(131, 0)]},\n",
       " '/Resources': {'/ExtGState': {'/GS5': {'/Type': '/ExtGState',\n",
       "    '/BM': '/Normal',\n",
       "    '/ca': 1},\n",
       "   '/GS11': {'/Type': '/ExtGState', '/BM': '/Normal', '/CA': 1}},\n",
       "  '/Font': {'/F1': {'/Type': '/Font',\n",
       "    '/Subtype': '/Type0',\n",
       "    '/BaseFont': '/ABCDEE+Meiryo-Bold',\n",
       "    '/Encoding': '/Identity-H',\n",
       "    '/DescendantFonts': [IndirectObject(8, 0)],\n",
       "    '/ToUnicode': {'/Filter': '/FlateDecode'}},\n",
       "   '/F2': {'/Type': '/Font',\n",
       "    '/Subtype': '/TrueType',\n",
       "    '/Name': '/F2',\n",
       "    '/BaseFont': '/ABCDEE+Meiryo-Bold',\n",
       "    '/Encoding': '/WinAnsiEncoding',\n",
       "    '/FontDescriptor': {'/Type': '/FontDescriptor',\n",
       "     '/FontName': '/ABCDEE+Meiryo-Bold',\n",
       "     '/Flags': 32,\n",
       "     '/ItalicAngle': 0,\n",
       "     '/Ascent': 1060,\n",
       "     '/Descent': -122,\n",
       "     '/CapHeight': 878,\n",
       "     '/AvgWidth': 960,\n",
       "     '/MaxWidth': 3021,\n",
       "     '/FontWeight': 700,\n",
       "     '/XHeight': 250,\n",
       "     '/StemV': 96,\n",
       "     '/FontBBox': [-984, -122, 2037, 878],\n",
       "     '/FontFile2': {'/Filter': '/FlateDecode', '/Length1': 534128}},\n",
       "    '/FirstChar': 48,\n",
       "    '/LastChar': 50,\n",
       "    '/Widths': [677, 677, 677]},\n",
       "   '/F3': {'/Type': '/Font',\n",
       "    '/Subtype': '/Type0',\n",
       "    '/BaseFont': '/ABCDEE+Meiryo',\n",
       "    '/Encoding': '/Identity-H',\n",
       "    '/DescendantFonts': [IndirectObject(16, 0)],\n",
       "    '/ToUnicode': {'/Filter': '/FlateDecode'}},\n",
       "   '/F4': {'/Type': '/Font',\n",
       "    '/Subtype': '/TrueType',\n",
       "    '/Name': '/F4',\n",
       "    '/BaseFont': '/ABCDEE+Calibri',\n",
       "    '/Encoding': '/WinAnsiEncoding',\n",
       "    '/FontDescriptor': {'/Type': '/FontDescriptor',\n",
       "     '/FontName': '/ABCDEE+Calibri',\n",
       "     '/Flags': 32,\n",
       "     '/ItalicAngle': 0,\n",
       "     '/Ascent': 750,\n",
       "     '/Descent': -250,\n",
       "     '/CapHeight': 750,\n",
       "     '/AvgWidth': 521,\n",
       "     '/MaxWidth': 1743,\n",
       "     '/FontWeight': 400,\n",
       "     '/XHeight': 250,\n",
       "     '/StemV': 52,\n",
       "     '/FontBBox': [-503, -250, 1240, 750],\n",
       "     '/FontFile2': {'/Filter': '/FlateDecode', '/Length1': 359828}},\n",
       "    '/FirstChar': 32,\n",
       "    '/LastChar': 57,\n",
       "    '/Widths': [226,\n",
       "     0,\n",
       "     0,\n",
       "     0,\n",
       "     0,\n",
       "     715,\n",
       "     0,\n",
       "     0,\n",
       "     0,\n",
       "     0,\n",
       "     0,\n",
       "     0,\n",
       "     250,\n",
       "     0,\n",
       "     252,\n",
       "     0,\n",
       "     507,\n",
       "     507,\n",
       "     507,\n",
       "     507,\n",
       "     507,\n",
       "     507,\n",
       "     507,\n",
       "     507,\n",
       "     507,\n",
       "     507]},\n",
       "   '/F5': {'/Type': '/Font',\n",
       "    '/Subtype': '/TrueType',\n",
       "    '/Name': '/F5',\n",
       "    '/BaseFont': '/ABCDEE+Meiryo',\n",
       "    '/Encoding': '/WinAnsiEncoding',\n",
       "    '/FontDescriptor': {'/Type': '/FontDescriptor',\n",
       "     '/FontName': '/ABCDEE+Meiryo',\n",
       "     '/Flags': 32,\n",
       "     '/ItalicAngle': 0,\n",
       "     '/Ascent': 1060,\n",
       "     '/Descent': -122,\n",
       "     '/CapHeight': 878,\n",
       "     '/AvgWidth': 956,\n",
       "     '/MaxWidth': 2807,\n",
       "     '/FontWeight': 400,\n",
       "     '/XHeight': 250,\n",
       "     '/StemV': 95,\n",
       "     '/FontBBox': [-984, -122, 1822, 878],\n",
       "     '/FontFile2': {'/Filter': '/FlateDecode', '/Length1': 713168}},\n",
       "    '/FirstChar': 32,\n",
       "    '/LastChar': 49,\n",
       "    '/Widths': [340, 0, 0, 0, 0, 0, 0, 0, 0, 0, 0, 0, 0, 0, 349, 0, 621, 621]},\n",
       "   '/F6': {'/Type': '/Font',\n",
       "    '/Subtype': '/Type0',\n",
       "    '/BaseFont': '/ABCDEE+MeiryoUI',\n",
       "    '/Encoding': '/Identity-H',\n",
       "    '/DescendantFonts': [IndirectObject(25, 0)],\n",
       "    '/ToUnicode': {'/Filter': '/FlateDecode'}},\n",
       "   '/F7': {'/Type': '/Font',\n",
       "    '/Subtype': '/Type0',\n",
       "    '/BaseFont': '/ABCDEE+MeiryoUI-Bold',\n",
       "    '/Encoding': '/Identity-H',\n",
       "    '/DescendantFonts': [IndirectObject(30, 0)],\n",
       "    '/ToUnicode': {'/Filter': '/FlateDecode'}}},\n",
       "  '/ProcSet': ['/PDF', '/Text', '/ImageB', '/ImageC', '/ImageI']},\n",
       " '/MediaBox': [0, 0, 780, 540],\n",
       " '/Contents': {'/Filter': '/FlateDecode'},\n",
       " '/Group': {'/Type': '/Group', '/S': '/Transparency', '/CS': '/DeviceRGB'},\n",
       " '/Tabs': '/S',\n",
       " '/StructParents': 0}"
      ]
     },
     "execution_count": 7,
     "metadata": {},
     "output_type": "execute_result"
    }
   ],
   "source": [
    "reder.getPage(0)"
   ]
  },
  {
   "cell_type": "code",
   "execution_count": 8,
   "id": "13df9281",
   "metadata": {},
   "outputs": [],
   "source": [
    "new_file=open(\"1ページ目.pdf\",\"wb\")\n",
    "writer=PyPDF2.PdfFileWriter()\n",
    "writer.addPage(reder.getPage(0))\n",
    "writer.write(new_file)"
   ]
  },
  {
   "cell_type": "code",
   "execution_count": 33,
   "id": "62f85c01",
   "metadata": {},
   "outputs": [],
   "source": [
    "file.close()\n",
    "new_file.close()"
   ]
  },
  {
   "cell_type": "code",
   "execution_count": 23,
   "id": "de099148",
   "metadata": {},
   "outputs": [],
   "source": [
    "import PyPDF2\n",
    "file=open(\"コロナ知識.pdf\",\"rb\")\n",
    "reder=PyPDF2.PdfFileReader(file)\n",
    "\n",
    "for i in range(reder.numPages):\n",
    "    new_file=open(\"{}ページ目.pdf\".format(i+1),\"wb\")\n",
    "    writer=PyPDF2.PdfFileWriter()\n",
    "    writer.addPage(reder.getPage(i))\n",
    "    writer.write(new_file)\n",
    "    new_file.close()\n",
    "    \n",
    "file.close()"
   ]
  },
  {
   "cell_type": "code",
   "execution_count": 34,
   "id": "b5716d56",
   "metadata": {},
   "outputs": [],
   "source": [
    "import PyPDF2\n",
    "import natsort\n",
    "from glob  import glob\n",
    "\n",
    "merger=PyPDF2.PdfFileMerger()\n",
    "\n",
    "files = glob(\"*ページ目.pdf\")\n",
    "files=natsort.natsorted(files)\n",
    "\n",
    "for i in files:\n",
    "    merger.append(i)\n",
    "\n",
    "merge_file=open(\"マージ.pdf\",\"wb\")\n",
    "merger.write(merge_file)\n",
    "merge_file.close()\n"
   ]
  },
  {
   "cell_type": "code",
   "execution_count": 24,
   "id": "186fd9fa",
   "metadata": {},
   "outputs": [],
   "source": [
    "from glob  import glob\n",
    "files=glob(\"*ページ目.pdf\")"
   ]
  },
  {
   "cell_type": "code",
   "execution_count": 25,
   "id": "f96c7985",
   "metadata": {},
   "outputs": [
    {
     "data": {
      "text/plain": [
       "['10ページ目.pdf',\n",
       " '11ページ目.pdf',\n",
       " '1ページ目.pdf',\n",
       " '2ページ目.pdf',\n",
       " '3ページ目.pdf',\n",
       " '4ページ目.pdf',\n",
       " '5ページ目.pdf',\n",
       " '6ページ目.pdf',\n",
       " '7ページ目.pdf',\n",
       " '8ページ目.pdf',\n",
       " '9ページ目.pdf']"
      ]
     },
     "execution_count": 25,
     "metadata": {},
     "output_type": "execute_result"
    }
   ],
   "source": [
    "files"
   ]
  },
  {
   "cell_type": "code",
   "execution_count": 26,
   "id": "9a533ccc",
   "metadata": {},
   "outputs": [],
   "source": [
    "files.sort()"
   ]
  },
  {
   "cell_type": "code",
   "execution_count": 27,
   "id": "6f97bffc",
   "metadata": {},
   "outputs": [
    {
     "data": {
      "text/plain": [
       "['10ページ目.pdf',\n",
       " '11ページ目.pdf',\n",
       " '1ページ目.pdf',\n",
       " '2ページ目.pdf',\n",
       " '3ページ目.pdf',\n",
       " '4ページ目.pdf',\n",
       " '5ページ目.pdf',\n",
       " '6ページ目.pdf',\n",
       " '7ページ目.pdf',\n",
       " '8ページ目.pdf',\n",
       " '9ページ目.pdf']"
      ]
     },
     "execution_count": 27,
     "metadata": {},
     "output_type": "execute_result"
    }
   ],
   "source": [
    "files"
   ]
  },
  {
   "cell_type": "code",
   "execution_count": 28,
   "id": "7e3533ed",
   "metadata": {},
   "outputs": [
    {
     "name": "stdout",
     "output_type": "stream",
     "text": [
      "Collecting natsort\n",
      "  Downloading natsort-8.1.0-py3-none-any.whl (37 kB)\n",
      "Installing collected packages: natsort\n",
      "Successfully installed natsort-8.1.0\n"
     ]
    }
   ],
   "source": [
    "!pip install natsort"
   ]
  },
  {
   "cell_type": "code",
   "execution_count": 29,
   "id": "2fd69662",
   "metadata": {},
   "outputs": [
    {
     "data": {
      "text/plain": [
       "['1ページ目.pdf',\n",
       " '2ページ目.pdf',\n",
       " '3ページ目.pdf',\n",
       " '4ページ目.pdf',\n",
       " '5ページ目.pdf',\n",
       " '6ページ目.pdf',\n",
       " '7ページ目.pdf',\n",
       " '8ページ目.pdf',\n",
       " '9ページ目.pdf',\n",
       " '10ページ目.pdf',\n",
       " '11ページ目.pdf']"
      ]
     },
     "execution_count": 29,
     "metadata": {},
     "output_type": "execute_result"
    }
   ],
   "source": [
    "import natsort\n",
    "natsort.natsorted(files)"
   ]
  },
  {
   "cell_type": "code",
   "execution_count": 40,
   "id": "501f6b0a",
   "metadata": {},
   "outputs": [],
   "source": [
    "import PyPDF2\n",
    "file=open(\"コロナ知識.pdf\",\"rb\")\n",
    "reder=PyPDF2.PdfFileReader(file)\n",
    "\n",
    "\n",
    "new_file=open(\"{}ページ目.pdf\".format(1),\"wb\")\n",
    "writer=PyPDF2.PdfFileWriter()\n",
    "writer.addPage(reder.getPage(0).rotateClockwise(180))\n",
    "writer.write(new_file)\n",
    "new_file.close()\n",
    "    \n",
    "file.close()"
   ]
  },
  {
   "cell_type": "code",
   "execution_count": null,
   "id": "9ed065e3",
   "metadata": {},
   "outputs": [],
   "source": []
  },
  {
   "cell_type": "code",
   "execution_count": 36,
   "id": "8c9365a8",
   "metadata": {},
   "outputs": [
    {
     "name": "stdout",
     "output_type": "stream",
     "text": [
      "Collecting pdfminer.six\n",
      "  Downloading pdfminer.six-20211012-py3-none-any.whl (5.6 MB)\n",
      "Requirement already satisfied: cryptography in c:\\users\\n-kazu\\anaconda3\\lib\\site-packages (from pdfminer.six) (3.4.8)\n",
      "Requirement already satisfied: chardet in c:\\users\\n-kazu\\anaconda3\\lib\\site-packages (from pdfminer.six) (4.0.0)\n",
      "Requirement already satisfied: cffi>=1.12 in c:\\users\\n-kazu\\anaconda3\\lib\\site-packages (from cryptography->pdfminer.six) (1.14.6)\n",
      "Requirement already satisfied: pycparser in c:\\users\\n-kazu\\anaconda3\\lib\\site-packages (from cffi>=1.12->cryptography->pdfminer.six) (2.20)\n",
      "Installing collected packages: pdfminer.six\n",
      "Successfully installed pdfminer.six-20211012\n"
     ]
    }
   ],
   "source": [
    "!pip install pdfminer.six"
   ]
  },
  {
   "cell_type": "code",
   "execution_count": 37,
   "id": "9903098e",
   "metadata": {},
   "outputs": [],
   "source": [
    "from pdfminer.high_level import extract_text"
   ]
  },
  {
   "cell_type": "code",
   "execution_count": 42,
   "id": "69ef17fa",
   "metadata": {},
   "outputs": [
    {
     "name": "stdout",
     "output_type": "stream",
     "text": [
      "1\n",
      "\n",
      "11．新型コロナウイルスの変異について教えてください。\n",
      "\n",
      "新型コロナウイルスの変異株\n",
      "\n",
      "10.接種の始まった新型コロナワクチンはどのようなワクチンですか。接種はどの程度進んでいますか。\n",
      "\n",
      "９. 新型コロナウイルス感染症はどのようにして治療するのですか。\n",
      "\n",
      "８．新型コロナウイルス感染症を診断するための検査にはどのようなものがありますか。\n",
      "\n",
      "新型コロナウイルス感染症に対する検査・治療\n",
      "\n",
      "７．新型コロナウイルス感染症を拡げないためには、どのような場面に注意する必要がありますか。\n",
      "\n",
      "６．新型コロナウイルス感染症と診断された人のうち、どれくらいの人が他の人に感染させていますか。\n",
      "\n",
      "５．新型コロナウイルスに感染した人が、他の人に感染させる可能性がある期間はいつまでですか。\n",
      "\n",
      "新型コロナウイルス感染症の感染性\n",
      "\n",
      "４．海外と比べて、日本で新型コロナウイルス感染症と診断された人の数は多いのですか。\n",
      "\n",
      "３．新型コロナウイルス感染症と診断された人のうち、重症化しやすいのはどんな人ですか。\n",
      "\n",
      "２．新型コロナウイルス感染症と診断された人のうち、重症化する人や死亡する人はどれくらいですか。\n",
      "\n",
      "１．日本では、どれくらいの人が新型コロナウイルス感染症と診断されていますか。\n",
      "\n",
      "新型コロナウイルス感染症の患者数・病原性\n",
      "\n",
      "新型コロナウイルス感染症の“いま”に関する11の知識\n",
      "（2022年2月版）\n",
      "\n",
      "\f",
      "\n"
     ]
    }
   ],
   "source": [
    "text=extract_text(\"1ページ目.pdf\")\n",
    "print(text)"
   ]
  },
  {
   "cell_type": "code",
   "execution_count": 43,
   "id": "7a7cbb2e",
   "metadata": {},
   "outputs": [
    {
     "name": "stdout",
     "output_type": "stream",
     "text": [
      "Q 新型コロナウイルス感染症と診断された人のうち、重症化する人や死亡する人はどれくらいですか。\n",
      "\n",
      "A 新型コロナウイルス感染症と診断された人のうち、重症化する人の割合や死亡する人の割合は年齢によって異なり、高齢者は\n",
      "\n",
      "高く、若者は低い傾向にあります。\n",
      "\n",
      "重症化する割合や死亡する割合は以前と比べ低下しており、2021年７月から10月に診断された人の中では、\n",
      "\n",
      "・重症化する人の割合は 0.98％（50歳代以下で0.56％、60歳代以上で5.0％）、\n",
      "・死亡する人の割合は 0.31％（50歳代以下で0.08％、60歳代以上で2.5％）となっています。\n",
      "\n",
      "※「重症化する人の割合」は、新型コロナウイルス感染症と診断された症例（無症状を含む）のうち、集中治療室での治療や人工呼吸器等による治療を行った症例または死亡した症例の割合。\n",
      "\n",
      "診断\n",
      "\n",
      "発熱、咳など\n",
      "\n",
      "重症化\n",
      "\n",
      "死亡\n",
      "\n",
      "50歳代以下の0.56%\n",
      "60歳代以上の5.0%\n",
      "\n",
      "50歳代以下の0.08%\n",
      "60歳代以上の 2.5%\n",
      "\n",
      "診断された人のうち、重症化する割合（％）\n",
      "\n",
      "診断された人のうち、死亡する割合（％）\n",
      "\n",
      "年代（歳）\n",
      "\n",
      "診断月\n",
      "\n",
      "0\n",
      "-9\n",
      "\n",
      "10\n",
      "-19\n",
      "\n",
      "20\n",
      "-29\n",
      "\n",
      "30\n",
      "-39\n",
      "\n",
      "40\n",
      "-49\n",
      "\n",
      "50\n",
      "-59\n",
      "\n",
      "60\n",
      "-69\n",
      "\n",
      "70\n",
      "-79\n",
      "\n",
      "80\n",
      "-89\n",
      "\n",
      "90- 計\n",
      "\n",
      "診断月\n",
      "\n",
      "年代（歳）\n",
      "\n",
      "0\n",
      "-9\n",
      "\n",
      "10\n",
      "-19\n",
      "\n",
      "20\n",
      "-29\n",
      "\n",
      "30\n",
      "-39\n",
      "\n",
      "40\n",
      "-49\n",
      "\n",
      "50\n",
      "-59\n",
      "\n",
      "60\n",
      "-69\n",
      "\n",
      "70\n",
      "-79\n",
      "\n",
      "80\n",
      "-89\n",
      "\n",
      "90- 計\n",
      "\n",
      "2021年7-10月\n",
      "\n",
      "0.05\n",
      "\n",
      "0.05\n",
      "\n",
      "0.01 0.31 1.04 2.25 3.62 4.43 9.17 12.68 0.98\n",
      "\n",
      "2021年7-10月\n",
      "\n",
      "0.00\n",
      "\n",
      "0.00\n",
      "\n",
      "0.00 0.06 0.08 0.42 0.86 2.35 6.21 11.97 0.31\n",
      "\n",
      "0.00\n",
      "\n",
      "0.00\n",
      "\n",
      "0.00 0.00 0.47 0.82 1.78 2.22 5.88 7.78\n",
      "\n",
      "0.00\n",
      "\n",
      "0.00\n",
      "\n",
      "0.00 0.00 0.00 0.12 0.32 1.23 4.41 6.67\n",
      "\n",
      "0.05\n",
      "\n",
      "0.06\n",
      "\n",
      "0.02 0.36 1.16 2.73 4.89 7.26 14.18 21.15\n",
      "\n",
      "0.00\n",
      "\n",
      "0.00\n",
      "\n",
      "0.00 0.07 0.10 0.52 1.22 3.79 8.96 21.15\n",
      "\n",
      "－\n",
      "\n",
      "ー\n",
      "\n",
      "年代（歳）\n",
      "\n",
      "0\n",
      "-9\n",
      "\n",
      "10\n",
      "-19\n",
      "\n",
      "20\n",
      "-29\n",
      "\n",
      "30\n",
      "-39\n",
      "\n",
      "40\n",
      "-49\n",
      "\n",
      "50\n",
      "-59\n",
      "\n",
      "60\n",
      "-69\n",
      "\n",
      "70\n",
      "-79\n",
      "\n",
      "80\n",
      "-89\n",
      "\n",
      "90- 計\n",
      "\n",
      "診断月\n",
      "\n",
      "年代（歳）\n",
      "\n",
      "診断月\n",
      "\n",
      "0\n",
      "-9\n",
      "\n",
      "10\n",
      "-19\n",
      "\n",
      "20\n",
      "-29\n",
      "\n",
      "30\n",
      "-39\n",
      "\n",
      "40\n",
      "-49\n",
      "\n",
      "50\n",
      "-59\n",
      "\n",
      "60\n",
      "-69\n",
      "\n",
      "70\n",
      "-79\n",
      "\n",
      "80\n",
      "-89\n",
      "\n",
      "90- 計\n",
      "\n",
      "出典：茨城県、広島県等の自治体の協力のもと、作成\n",
      "\n",
      "0.09\n",
      "\n",
      "0.00\n",
      "\n",
      "0.03 0.09 0.54 1.47 3.85 8.40 14.50 16.64 1.62\n",
      "\n",
      "0.00\n",
      "\n",
      "0.00\n",
      "\n",
      "0.01 0.01 0.10 0.29 1.24 4.65 12.00 16.09 0.96\n",
      "\n",
      "－\n",
      "\n",
      "ー\n",
      "\n",
      "うちワクチン接種\n",
      "歴１回以上\n",
      "\n",
      "うちワクチン未接\n",
      "種又は接種歴\n",
      "\n",
      "不明\n",
      "\n",
      "2020年\n",
      "６-８月\n",
      "\n",
      "2020年\n",
      "１-４月\n",
      "\n",
      "0.69\n",
      "\n",
      "0.90 0.80 1.52 3.43 6.40 15.25 26.20 34.72 36.24 9.80\n",
      "\n",
      "0.00\n",
      "\n",
      "0.00 0.00 0.36 0.61 1.18 5.49 17.05 30.72 34.50 5.62\n",
      "\n",
      "うちワクチン接種\n",
      "歴１回以上\n",
      "\n",
      "うちワクチン未接\n",
      "種又は接種歴\n",
      "不明\n",
      "\n",
      "2020年\n",
      "６-８月\n",
      "\n",
      "2020年\n",
      "１-４月\n",
      "\n",
      "出典：2020年10月22日第11回アドバイザリーボード資料（京都大学西浦教授提出資料）より作成\n",
      "\n",
      "3\n",
      "\n",
      "\f",
      "\n"
     ]
    }
   ],
   "source": [
    "text=extract_text(\"3ページ目.pdf\")\n",
    "print(text)"
   ]
  },
  {
   "cell_type": "code",
   "execution_count": 47,
   "id": "42404c12",
   "metadata": {},
   "outputs": [],
   "source": [
    "str_start=text.find(\"重症化する人の割合\",100,200)+len(\"重症化する人の割合は\")"
   ]
  },
  {
   "cell_type": "code",
   "execution_count": 52,
   "id": "71acc34c",
   "metadata": {},
   "outputs": [
    {
     "data": {
      "text/plain": [
       "' 0.98％'"
      ]
     },
     "execution_count": 52,
     "metadata": {},
     "output_type": "execute_result"
    }
   ],
   "source": [
    "text[str_start:str_start+6]"
   ]
  },
  {
   "cell_type": "code",
   "execution_count": null,
   "id": "755a7a55",
   "metadata": {},
   "outputs": [],
   "source": []
  }
 ],
 "metadata": {
  "kernelspec": {
   "display_name": "Python 3 (ipykernel)",
   "language": "python",
   "name": "python3"
  },
  "language_info": {
   "codemirror_mode": {
    "name": "ipython",
    "version": 3
   },
   "file_extension": ".py",
   "mimetype": "text/x-python",
   "name": "python",
   "nbconvert_exporter": "python",
   "pygments_lexer": "ipython3",
   "version": "3.9.7"
  }
 },
 "nbformat": 4,
 "nbformat_minor": 5
}
