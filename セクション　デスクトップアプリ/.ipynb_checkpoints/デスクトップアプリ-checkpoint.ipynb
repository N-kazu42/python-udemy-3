{
 "cells": [
  {
   "cell_type": "code",
   "execution_count": null,
   "id": "fecdfa83",
   "metadata": {},
   "outputs": [],
   "source": []
  },
  {
   "cell_type": "code",
   "execution_count": null,
   "id": "9ba42d82",
   "metadata": {},
   "outputs": [
    {
     "name": "stdout",
     "output_type": "stream",
     "text": [
      "ｔｔ 1\n",
      "ｔｔ 2\n"
     ]
    }
   ],
   "source": [
    "import tkinter\n",
    "\n",
    "def button_function():\n",
    "    input_text=input_box.get()\n",
    "    radio = var.get()\n",
    "    print(input_text,radio)\n",
    "window=tkinter.Tk()\n",
    "window.title(\"タイトル\")\n",
    "window.geometry(\"1000x500+300+300\")\n",
    "window.attributes(\"-topmost\",True)\n",
    "\n",
    "label=tkinter.Label(window,text=\"これはラベルです\")\n",
    "label.place(x=100,y=100)\n",
    "\n",
    "input_box=tkinter.Entry(window)\n",
    "input_box.place(x=100,y=200)\n",
    "\n",
    "button=tkinter.Button(window,text=\"ボタン\",command=button_function)\n",
    "button.place(x=100,y=300)\n",
    "\n",
    "var=tkinter.IntVar()\n",
    "radio_button1=tkinter.Radiobutton(window,text=\"ラジオボタン1\",value=1,variable=var)\n",
    "radio_button1.place(x=100,y=400)\n",
    "radio_button2=tkinter.Radiobutton(window,text=\"ラジオボタン2\",value=2,variable=var)\n",
    "radio_button2.place(x=100,y=420)\n",
    "\n",
    "window.mainloop()"
   ]
  },
  {
   "cell_type": "code",
   "execution_count": 15,
   "id": "67c49e30",
   "metadata": {},
   "outputs": [],
   "source": [
    "def hello():\n",
    "    print(\"こんにちは\")"
   ]
  },
  {
   "cell_type": "code",
   "execution_count": 16,
   "id": "726d4430",
   "metadata": {},
   "outputs": [
    {
     "name": "stdout",
     "output_type": "stream",
     "text": [
      "こんにちは\n"
     ]
    }
   ],
   "source": [
    "hello()"
   ]
  },
  {
   "cell_type": "code",
   "execution_count": 20,
   "id": "71ddb896",
   "metadata": {},
   "outputs": [],
   "source": [
    "def hello_to(name=\"名無し\"):\n",
    "    print(\"こんにちは,{}さん\".format(name))"
   ]
  },
  {
   "cell_type": "code",
   "execution_count": 21,
   "id": "5ea29269",
   "metadata": {},
   "outputs": [
    {
     "name": "stdout",
     "output_type": "stream",
     "text": [
      "こんにちは,名無しさん\n"
     ]
    }
   ],
   "source": [
    "hello_to()"
   ]
  },
  {
   "cell_type": "code",
   "execution_count": 22,
   "id": "8c29657a",
   "metadata": {},
   "outputs": [],
   "source": [
    "def plus(a,b):\n",
    "    return a+b"
   ]
  },
  {
   "cell_type": "code",
   "execution_count": 23,
   "id": "1dac38a7",
   "metadata": {},
   "outputs": [
    {
     "data": {
      "text/plain": [
       "7"
      ]
     },
     "execution_count": 23,
     "metadata": {},
     "output_type": "execute_result"
    }
   ],
   "source": [
    "plus(3,4)"
   ]
  },
  {
   "cell_type": "code",
   "execution_count": null,
   "id": "49f13782",
   "metadata": {},
   "outputs": [],
   "source": []
  }
 ],
 "metadata": {
  "kernelspec": {
   "display_name": "Python 3 (ipykernel)",
   "language": "python",
   "name": "python3"
  },
  "language_info": {
   "codemirror_mode": {
    "name": "ipython",
    "version": 3
   },
   "file_extension": ".py",
   "mimetype": "text/x-python",
   "name": "python",
   "nbconvert_exporter": "python",
   "pygments_lexer": "ipython3",
   "version": "3.9.7"
  }
 },
 "nbformat": 4,
 "nbformat_minor": 5
}
