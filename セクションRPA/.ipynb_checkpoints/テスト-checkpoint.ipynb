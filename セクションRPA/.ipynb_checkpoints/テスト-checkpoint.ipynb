{
 "cells": [
  {
   "cell_type": "code",
   "execution_count": 1,
   "id": "3a2e73ae",
   "metadata": {},
   "outputs": [
    {
     "name": "stdout",
     "output_type": "stream",
     "text": [
      "Requirement already satisfied: pyautogui in c:\\users\\n-kazu\\anaconda3\\lib\\site-packages (0.9.53)\n",
      "Requirement already satisfied: pygetwindow>=0.0.5 in c:\\users\\n-kazu\\anaconda3\\lib\\site-packages (from pyautogui) (0.0.9)\n",
      "Requirement already satisfied: PyTweening>=1.0.1 in c:\\users\\n-kazu\\anaconda3\\lib\\site-packages (from pyautogui) (1.0.4)\n",
      "Requirement already satisfied: pyscreeze>=0.1.21 in c:\\users\\n-kazu\\anaconda3\\lib\\site-packages (from pyautogui) (0.1.28)\n",
      "Requirement already satisfied: mouseinfo in c:\\users\\n-kazu\\anaconda3\\lib\\site-packages (from pyautogui) (0.1.3)\n",
      "Requirement already satisfied: pymsgbox in c:\\users\\n-kazu\\anaconda3\\lib\\site-packages (from pyautogui) (1.0.9)\n",
      "Requirement already satisfied: pyrect in c:\\users\\n-kazu\\anaconda3\\lib\\site-packages (from pygetwindow>=0.0.5->pyautogui) (0.1.4)\n",
      "Requirement already satisfied: pyperclip in c:\\users\\n-kazu\\anaconda3\\lib\\site-packages (from mouseinfo->pyautogui) (1.8.2)\n"
     ]
    }
   ],
   "source": [
    "!pip install pyautogui"
   ]
  },
  {
   "cell_type": "code",
   "execution_count": 2,
   "id": "6c673492",
   "metadata": {},
   "outputs": [],
   "source": [
    "import pyautogui"
   ]
  },
  {
   "cell_type": "code",
   "execution_count": 3,
   "id": "0dc294f2",
   "metadata": {},
   "outputs": [
    {
     "data": {
      "text/plain": [
       "Size(width=1920, height=1080)"
      ]
     },
     "execution_count": 3,
     "metadata": {},
     "output_type": "execute_result"
    }
   ],
   "source": [
    "pyautogui.size()"
   ]
  },
  {
   "cell_type": "code",
   "execution_count": 11,
   "id": "d6e22bbf",
   "metadata": {},
   "outputs": [
    {
     "data": {
      "text/plain": [
       "Point(x=957, y=337)"
      ]
     },
     "execution_count": 11,
     "metadata": {},
     "output_type": "execute_result"
    }
   ],
   "source": [
    "pyautogui.position()"
   ]
  },
  {
   "cell_type": "code",
   "execution_count": 22,
   "id": "4fdb75a6",
   "metadata": {},
   "outputs": [],
   "source": [
    "pyautogui.moveTo(x=500,y=100)\n",
    "pyautogui.FAILSAFE=True"
   ]
  },
  {
   "cell_type": "code",
   "execution_count": 23,
   "id": "8c6402ae",
   "metadata": {},
   "outputs": [],
   "source": [
    "pyautogui.mouseDown()\n",
    "pyautogui.moveRel(100,0,duration=10)\n",
    "pyautogui.mouseUp()"
   ]
  },
  {
   "cell_type": "code",
   "execution_count": 24,
   "id": "632c9f9c",
   "metadata": {},
   "outputs": [],
   "source": [
    "pyautogui.click()\n",
    "pyautogui.write(\"test\")"
   ]
  },
  {
   "cell_type": "code",
   "execution_count": 25,
   "id": "7e5b3be2",
   "metadata": {},
   "outputs": [],
   "source": [
    "import pyperclip"
   ]
  },
  {
   "cell_type": "code",
   "execution_count": 29,
   "id": "b22f3ba9",
   "metadata": {},
   "outputs": [],
   "source": [
    "pyautogui.click()\n",
    "pyperclip.copy(\"テスト\")\n",
    "pyautogui.hotkey(\"ctrl\",\"v\")\n",
    "pyautogui.press(\"enter\")\n"
   ]
  },
  {
   "cell_type": "code",
   "execution_count": 30,
   "id": "72947758",
   "metadata": {},
   "outputs": [
    {
     "ename": "NameError",
     "evalue": "name 'テスト' is not defined",
     "output_type": "error",
     "traceback": [
      "\u001b[1;31m---------------------------------------------------------------------------\u001b[0m",
      "\u001b[1;31mNameError\u001b[0m                                 Traceback (most recent call last)",
      "\u001b[1;32m~\\AppData\\Local\\Temp/ipykernel_3732/1352747159.py\u001b[0m in \u001b[0;36m<module>\u001b[1;34m\u001b[0m\n\u001b[1;32m----> 1\u001b[1;33m \u001b[0mテスト\u001b[0m\u001b[1;33m\u001b[0m\u001b[1;33m\u001b[0m\u001b[0m\n\u001b[0m",
      "\u001b[1;31mNameError\u001b[0m: name 'テスト' is not defined"
     ]
    }
   ],
   "source": [
    "テスト\n"
   ]
  },
  {
   "cell_type": "code",
   "execution_count": 4,
   "id": "31ff6fb7",
   "metadata": {},
   "outputs": [],
   "source": [
    "pyautogui.click()"
   ]
  },
  {
   "cell_type": "code",
   "execution_count": 6,
   "id": "aebb4a46",
   "metadata": {},
   "outputs": [
    {
     "data": {
      "text/plain": [
       "Point(x=1703, y=721)"
      ]
     },
     "execution_count": 6,
     "metadata": {},
     "output_type": "execute_result"
    }
   ],
   "source": [
    "pyautogui.position()"
   ]
  },
  {
   "cell_type": "code",
   "execution_count": 6,
   "id": "b60abaa8",
   "metadata": {},
   "outputs": [],
   "source": [
    "#pyautogui.moveTo(x=531,y=114)\n",
    "#time.sleep(2)\n",
    "import pyautogui\n",
    "import pyperclip\n",
    "import time\n",
    "pyautogui.click(x=531,y=114)\n",
    "time.sleep(2)\n",
    "pyperclip.copy(\"テスト\")\n",
    "pyautogui.hotkey(\"ctrl\",\"v\")\n",
    "pyautogui.press(\"enter\")"
   ]
  },
  {
   "cell_type": "code",
   "execution_count": 10,
   "id": "8dac4133",
   "metadata": {},
   "outputs": [],
   "source": [
    "x,y=pyautogui.locateCenterOnScreen(\"icon.PNG\")"
   ]
  },
  {
   "cell_type": "code",
   "execution_count": 8,
   "id": "77533e2f",
   "metadata": {},
   "outputs": [
    {
     "name": "stdout",
     "output_type": "stream",
     "text": [
      "Collecting opencv-contrib-python\n",
      "  Downloading opencv_contrib_python-4.5.5.64-cp36-abi3-win_amd64.whl (42.2 MB)\n",
      "Requirement already satisfied: numpy>=1.14.5 in c:\\users\\n-kazu\\anaconda3\\lib\\site-packages (from opencv-contrib-python) (1.20.3)\n",
      "Installing collected packages: opencv-contrib-python\n",
      "Successfully installed opencv-contrib-python-4.5.5.64\n"
     ]
    }
   ],
   "source": [
    "!pip install opencv-contrib-python"
   ]
  },
  {
   "cell_type": "code",
   "execution_count": 13,
   "id": "19df0aae",
   "metadata": {},
   "outputs": [],
   "source": [
    "x,y=pyautogui.locateCenterOnScreen(\"icon.PNG\")\n",
    "pyautogui.moveTo(x,y)\n",
    "pyautogui.doubleClick(x,y)"
   ]
  },
  {
   "cell_type": "code",
   "execution_count": 9,
   "id": "f71164df",
   "metadata": {},
   "outputs": [
    {
     "name": "stdout",
     "output_type": "stream",
     "text": [
      "終了しました\n"
     ]
    }
   ],
   "source": [
    "import pyautogui\n",
    "import pyperclip\n",
    "import time\n",
    "\n",
    "pyautogui.hotkey(\"win\",\"d\")\n",
    "pyautogui.doubleClick(1703,721)\n",
    "time.sleep(1)\n",
    "x,y=pyautogui.locateCenterOnScreen(\"icon.PNG\")\n",
    "pyautogui.doubleClick(x,y)\n",
    "time.sleep(1)\n",
    "pyautogui.click(x=788,y=301)\n",
    "pyperclip.copy(\"テスト\")\n",
    "pyautogui.hotkey(\"ctrl\",\"v\")\n",
    "time.sleep(1)\n",
    "pyautogui.hotkey(\"ctrl\",\"s\")\n",
    "time.sleep(1)\n",
    "pyautogui.hotkey(\"ctrl\",\"w\")\n",
    "time.sleep(1)\n",
    "\n",
    "print(\"終了しました\")"
   ]
  },
  {
   "cell_type": "code",
   "execution_count": null,
   "id": "52142c67",
   "metadata": {},
   "outputs": [],
   "source": [
    "pyautogui.hotkey(\"win\",\"d\")"
   ]
  },
  {
   "cell_type": "code",
   "execution_count": 10,
   "id": "00062f02",
   "metadata": {
    "scrolled": true
   },
   "outputs": [
    {
     "name": "stdout",
     "output_type": "stream",
     "text": [
      "Collecting pyinstaller\n",
      "  Downloading pyinstaller-4.10-py3-none-win_amd64.whl (2.0 MB)\n",
      "Requirement already satisfied: pywin32-ctypes>=0.2.0 in c:\\users\\n-kazu\\anaconda3\\lib\\site-packages (from pyinstaller) (0.2.0)\n",
      "Collecting altgraph\n",
      "  Downloading altgraph-0.17.2-py2.py3-none-any.whl (21 kB)\n",
      "Collecting pyinstaller-hooks-contrib>=2020.6\n",
      "  Downloading pyinstaller_hooks_contrib-2022.2-py2.py3-none-any.whl (223 kB)\n",
      "Collecting pefile>=2017.8.1\n",
      "  Downloading pefile-2021.9.3.tar.gz (72 kB)\n",
      "Requirement already satisfied: setuptools in c:\\users\\n-kazu\\anaconda3\\lib\\site-packages (from pyinstaller) (58.0.4)\n",
      "Requirement already satisfied: future in c:\\users\\n-kazu\\anaconda3\\lib\\site-packages (from pefile>=2017.8.1->pyinstaller) (0.18.2)\n",
      "Building wheels for collected packages: pefile\n",
      "  Building wheel for pefile (setup.py): started\n",
      "  Building wheel for pefile (setup.py): finished with status 'done'\n",
      "  Created wheel for pefile: filename=pefile-2021.9.3-py3-none-any.whl size=68844 sha256=9d25bac14da51533c1f1e0ddedebd13292b844dacc29173b03f11b02ca0e5962\n",
      "  Stored in directory: c:\\users\\n-kazu\\appdata\\local\\pip\\cache\\wheels\\05\\42\\e9\\7d0273e82936b525e10e4080595cd0aad0b3481d78b5a3aecc\n",
      "Successfully built pefile\n",
      "Installing collected packages: pyinstaller-hooks-contrib, pefile, altgraph, pyinstaller\n",
      "Successfully installed altgraph-0.17.2 pefile-2021.9.3 pyinstaller-4.10 pyinstaller-hooks-contrib-2022.2\n"
     ]
    }
   ],
   "source": [
    "!pip install pyinstaller"
   ]
  },
  {
   "cell_type": "code",
   "execution_count": null,
   "id": "2dd72e5b",
   "metadata": {},
   "outputs": [],
   "source": [
    "!pyinstaller 完成版.py --onefile"
   ]
  },
  {
   "cell_type": "code",
   "execution_count": null,
   "id": "8566c878",
   "metadata": {},
   "outputs": [],
   "source": []
  }
 ],
 "metadata": {
  "kernelspec": {
   "display_name": "Python 3 (ipykernel)",
   "language": "python",
   "name": "python3"
  },
  "language_info": {
   "codemirror_mode": {
    "name": "ipython",
    "version": 3
   },
   "file_extension": ".py",
   "mimetype": "text/x-python",
   "name": "python",
   "nbconvert_exporter": "python",
   "pygments_lexer": "ipython3",
   "version": "3.9.7"
  }
 },
 "nbformat": 4,
 "nbformat_minor": 5
}
