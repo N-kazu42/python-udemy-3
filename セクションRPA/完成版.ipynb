{
 "cells": [
  {
   "cell_type": "code",
   "execution_count": null,
   "id": "3786de83",
   "metadata": {},
   "outputs": [],
   "source": [
    "import pyautogui\n",
    "import pyperclip\n",
    "import time\n",
    "\n",
    "pyautogui.hotkey(\"win\",\"d\")\n",
    "pyautogui.doubleClick(1703,721)\n",
    "time.sleep(1)\n",
    "x,y=pyautogui.locateCenterOnScreen(\"icon.PNG\")\n",
    "pyautogui.doubleClick(x,y)\n",
    "time.sleep(1)\n",
    "pyautogui.click(x=788,y=301)\n",
    "pyperclip.copy(\"テスト\")\n",
    "pyautogui.hotkey(\"ctrl\",\"v\")\n",
    "time.sleep(1)\n",
    "pyautogui.hotkey(\"ctrl\",\"s\")\n",
    "time.sleep(1)\n",
    "pyautogui.hotkey(\"ctrl\",\"w\")\n",
    "time.sleep(1)\n",
    "\n",
    "print(\"終了しました\")"
   ]
  }
 ],
 "metadata": {
  "kernelspec": {
   "display_name": "Python 3 (ipykernel)",
   "language": "python",
   "name": "python3"
  },
  "language_info": {
   "codemirror_mode": {
    "name": "ipython",
    "version": 3
   },
   "file_extension": ".py",
   "mimetype": "text/x-python",
   "name": "python",
   "nbconvert_exporter": "python",
   "pygments_lexer": "ipython3",
   "version": "3.9.7"
  }
 },
 "nbformat": 4,
 "nbformat_minor": 5
}
